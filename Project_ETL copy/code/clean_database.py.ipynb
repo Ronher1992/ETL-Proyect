{
 "cells": [
  {
   "cell_type": "markdown",
   "id": "d2340cbd",
   "metadata": {},
   "source": [
    "# Importancion de librerias"
   ]
  },
  {
   "cell_type": "code",
   "execution_count": 1,
   "id": "f3c4d7ac",
   "metadata": {},
   "outputs": [],
   "source": [
    "import pandas as pd\n",
    "import numpy as np\n",
    "\n",
    "pd.set_option('display.max_columns', None)"
   ]
  },
  {
   "cell_type": "markdown",
   "id": "4fe81ce3",
   "metadata": {},
   "source": [
    "# Exploracion de datos\n"
   ]
  },
  {
   "cell_type": "markdown",
   "id": "fd38c4d6",
   "metadata": {},
   "source": [
    "## Tabla Channel"
   ]
  },
  {
   "cell_type": "code",
   "execution_count": 2,
   "id": "3cfe4efc",
   "metadata": {},
   "outputs": [
    {
     "data": {
      "text/html": [
       "<div>\n",
       "<style scoped>\n",
       "    .dataframe tbody tr th:only-of-type {\n",
       "        vertical-align: middle;\n",
       "    }\n",
       "\n",
       "    .dataframe tbody tr th {\n",
       "        vertical-align: top;\n",
       "    }\n",
       "\n",
       "    .dataframe thead th {\n",
       "        text-align: right;\n",
       "    }\n",
       "</style>\n",
       "<table border=\"1\" class=\"dataframe\">\n",
       "  <thead>\n",
       "    <tr style=\"text-align: right;\">\n",
       "      <th></th>\n",
       "      <th>platform</th>\n",
       "      <th>channel_id</th>\n",
       "      <th>channel_name</th>\n",
       "      <th>followers_gain</th>\n",
       "      <th>last_streamed_game</th>\n",
       "      <th>channel_country</th>\n",
       "      <th>stream_language</th>\n",
       "      <th>partnership_status</th>\n",
       "      <th>channel_type</th>\n",
       "    </tr>\n",
       "  </thead>\n",
       "  <tbody>\n",
       "    <tr>\n",
       "      <th>0</th>\n",
       "      <td>twitch</td>\n",
       "      <td>36029255</td>\n",
       "      <td>riotgames</td>\n",
       "      <td>63633</td>\n",
       "      <td>League of Legends</td>\n",
       "      <td>NaN</td>\n",
       "      <td>en</td>\n",
       "      <td>partner</td>\n",
       "      <td>Organization</td>\n",
       "    </tr>\n",
       "    <tr>\n",
       "      <th>1</th>\n",
       "      <td>twitch</td>\n",
       "      <td>156037856</td>\n",
       "      <td>fextralife</td>\n",
       "      <td>48484</td>\n",
       "      <td>Overwatch 2</td>\n",
       "      <td>NaN</td>\n",
       "      <td>en</td>\n",
       "      <td>partner</td>\n",
       "      <td>Organization</td>\n",
       "    </tr>\n",
       "    <tr>\n",
       "      <th>2</th>\n",
       "      <td>twitch</td>\n",
       "      <td>181077473</td>\n",
       "      <td>gaules</td>\n",
       "      <td>16190</td>\n",
       "      <td>Counter-Strike: Global Offensive</td>\n",
       "      <td>BR</td>\n",
       "      <td>pt</td>\n",
       "      <td>partner</td>\n",
       "      <td>Male</td>\n",
       "    </tr>\n",
       "    <tr>\n",
       "      <th>3</th>\n",
       "      <td>twitch</td>\n",
       "      <td>87056709</td>\n",
       "      <td>pgl_dota2</td>\n",
       "      <td>34726</td>\n",
       "      <td>Dota 2</td>\n",
       "      <td>RO</td>\n",
       "      <td>en</td>\n",
       "      <td>partner</td>\n",
       "      <td>Organization</td>\n",
       "    </tr>\n",
       "    <tr>\n",
       "      <th>4</th>\n",
       "      <td>twitch</td>\n",
       "      <td>622498423</td>\n",
       "      <td>otplol_</td>\n",
       "      <td>5465</td>\n",
       "      <td>League of Legends</td>\n",
       "      <td>FR</td>\n",
       "      <td>fr</td>\n",
       "      <td>partner</td>\n",
       "      <td>Organization</td>\n",
       "    </tr>\n",
       "  </tbody>\n",
       "</table>\n",
       "</div>"
      ],
      "text/plain": [
       "  platform  channel_id channel_name  followers_gain  \\\n",
       "0   twitch    36029255    riotgames           63633   \n",
       "1   twitch   156037856   fextralife           48484   \n",
       "2   twitch   181077473       gaules           16190   \n",
       "3   twitch    87056709    pgl_dota2           34726   \n",
       "4   twitch   622498423      otplol_            5465   \n",
       "\n",
       "                 last_streamed_game channel_country stream_language  \\\n",
       "0                 League of Legends             NaN              en   \n",
       "1                       Overwatch 2             NaN              en   \n",
       "2  Counter-Strike: Global Offensive              BR              pt   \n",
       "3                            Dota 2              RO              en   \n",
       "4                 League of Legends              FR              fr   \n",
       "\n",
       "  partnership_status  channel_type  \n",
       "0            partner  Organization  \n",
       "1            partner  Organization  \n",
       "2            partner          Male  \n",
       "3            partner  Organization  \n",
       "4            partner  Organization  "
      ]
     },
     "execution_count": 2,
     "metadata": {},
     "output_type": "execute_result"
    }
   ],
   "source": [
    "channel = pd.read_csv('../data/channel.csv')\n",
    "\n",
    "channel.head()"
   ]
  },
  {
   "cell_type": "code",
   "execution_count": 3,
   "id": "ff901fa9",
   "metadata": {},
   "outputs": [
    {
     "name": "stdout",
     "output_type": "stream",
     "text": [
      "<class 'pandas.core.frame.DataFrame'>\n",
      "RangeIndex: 100 entries, 0 to 99\n",
      "Data columns (total 9 columns):\n",
      " #   Column              Non-Null Count  Dtype \n",
      "---  ------              --------------  ----- \n",
      " 0   platform            100 non-null    object\n",
      " 1   channel_id          100 non-null    int64 \n",
      " 2   channel_name        100 non-null    object\n",
      " 3   followers_gain      100 non-null    int64 \n",
      " 4   last_streamed_game  100 non-null    object\n",
      " 5   channel_country     88 non-null     object\n",
      " 6   stream_language     100 non-null    object\n",
      " 7   partnership_status  100 non-null    object\n",
      " 8   channel_type        96 non-null     object\n",
      "dtypes: int64(2), object(7)\n",
      "memory usage: 44.6 KB\n"
     ]
    }
   ],
   "source": [
    "channel.info(memory_usage= 'deep')"
   ]
  },
  {
   "cell_type": "code",
   "execution_count": 4,
   "id": "c3fdaad7",
   "metadata": {},
   "outputs": [
    {
     "data": {
      "text/plain": [
       "(100, 9)"
      ]
     },
     "execution_count": 4,
     "metadata": {},
     "output_type": "execute_result"
    }
   ],
   "source": [
    "channel.shape"
   ]
  },
  {
   "cell_type": "code",
   "execution_count": 5,
   "id": "dce559a5",
   "metadata": {},
   "outputs": [
    {
     "data": {
      "text/plain": [
       "Index(['platform', 'channel_id', 'channel_name', 'followers_gain',\n",
       "       'last_streamed_game', 'channel_country', 'stream_language',\n",
       "       'partnership_status', 'channel_type'],\n",
       "      dtype='object')"
      ]
     },
     "execution_count": 5,
     "metadata": {},
     "output_type": "execute_result"
    }
   ],
   "source": [
    "channel.columns"
   ]
  },
  {
   "cell_type": "markdown",
   "id": "eb0633a4",
   "metadata": {},
   "source": [
    "## Tabla Time_data"
   ]
  },
  {
   "cell_type": "code",
   "execution_count": 6,
   "id": "ec3e5341",
   "metadata": {},
   "outputs": [
    {
     "data": {
      "text/html": [
       "<div>\n",
       "<style scoped>\n",
       "    .dataframe tbody tr th:only-of-type {\n",
       "        vertical-align: middle;\n",
       "    }\n",
       "\n",
       "    .dataframe tbody tr th {\n",
       "        vertical-align: top;\n",
       "    }\n",
       "\n",
       "    .dataframe thead th {\n",
       "        text-align: right;\n",
       "    }\n",
       "</style>\n",
       "<table border=\"1\" class=\"dataframe\">\n",
       "  <thead>\n",
       "    <tr style=\"text-align: right;\">\n",
       "      <th></th>\n",
       "      <th>platform</th>\n",
       "      <th>channel_id</th>\n",
       "      <th>channel_name</th>\n",
       "      <th>hours_watched</th>\n",
       "      <th>airtime_in_m</th>\n",
       "    </tr>\n",
       "  </thead>\n",
       "  <tbody>\n",
       "    <tr>\n",
       "      <th>0</th>\n",
       "      <td>twitch</td>\n",
       "      <td>36029255</td>\n",
       "      <td>riotgames</td>\n",
       "      <td>10347268</td>\n",
       "      <td>4430</td>\n",
       "    </tr>\n",
       "    <tr>\n",
       "      <th>1</th>\n",
       "      <td>twitch</td>\n",
       "      <td>156037856</td>\n",
       "      <td>fextralife</td>\n",
       "      <td>4709216</td>\n",
       "      <td>6085</td>\n",
       "    </tr>\n",
       "    <tr>\n",
       "      <th>2</th>\n",
       "      <td>twitch</td>\n",
       "      <td>181077473</td>\n",
       "      <td>gaules</td>\n",
       "      <td>3891316</td>\n",
       "      <td>10070</td>\n",
       "    </tr>\n",
       "    <tr>\n",
       "      <th>3</th>\n",
       "      <td>twitch</td>\n",
       "      <td>87056709</td>\n",
       "      <td>pgl_dota2</td>\n",
       "      <td>3839088</td>\n",
       "      <td>3530</td>\n",
       "    </tr>\n",
       "    <tr>\n",
       "      <th>4</th>\n",
       "      <td>twitch</td>\n",
       "      <td>622498423</td>\n",
       "      <td>otplol_</td>\n",
       "      <td>2750139</td>\n",
       "      <td>10080</td>\n",
       "    </tr>\n",
       "  </tbody>\n",
       "</table>\n",
       "</div>"
      ],
      "text/plain": [
       "  platform  channel_id channel_name  hours_watched  airtime_in_m\n",
       "0   twitch    36029255    riotgames       10347268          4430\n",
       "1   twitch   156037856   fextralife        4709216          6085\n",
       "2   twitch   181077473       gaules        3891316         10070\n",
       "3   twitch    87056709    pgl_dota2        3839088          3530\n",
       "4   twitch   622498423      otplol_        2750139         10080"
      ]
     },
     "execution_count": 6,
     "metadata": {},
     "output_type": "execute_result"
    }
   ],
   "source": [
    "time_data = pd.read_csv('../data/time_data.csv')\n",
    "\n",
    "time_data.head()"
   ]
  },
  {
   "cell_type": "code",
   "execution_count": 7,
   "id": "ca4ab1df",
   "metadata": {},
   "outputs": [
    {
     "data": {
      "text/plain": [
       "(100, 5)"
      ]
     },
     "execution_count": 7,
     "metadata": {},
     "output_type": "execute_result"
    }
   ],
   "source": [
    "time_data.shape"
   ]
  },
  {
   "cell_type": "code",
   "execution_count": 8,
   "id": "cad4fdae",
   "metadata": {},
   "outputs": [
    {
     "name": "stdout",
     "output_type": "stream",
     "text": [
      "<class 'pandas.core.frame.DataFrame'>\n",
      "RangeIndex: 100 entries, 0 to 99\n",
      "Data columns (total 5 columns):\n",
      " #   Column         Non-Null Count  Dtype \n",
      "---  ------         --------------  ----- \n",
      " 0   platform       100 non-null    object\n",
      " 1   channel_id     100 non-null    int64 \n",
      " 2   channel_name   100 non-null    object\n",
      " 3   hours_watched  100 non-null    int64 \n",
      " 4   airtime_in_m   100 non-null    int64 \n",
      "dtypes: int64(3), object(2)\n",
      "memory usage: 15.0 KB\n"
     ]
    }
   ],
   "source": [
    "time_data.info(memory_usage='deep')"
   ]
  },
  {
   "cell_type": "markdown",
   "id": "010ff2df",
   "metadata": {},
   "source": [
    "## Tabla Views"
   ]
  },
  {
   "cell_type": "code",
   "execution_count": 9,
   "id": "3429ac48",
   "metadata": {},
   "outputs": [
    {
     "data": {
      "text/html": [
       "<div>\n",
       "<style scoped>\n",
       "    .dataframe tbody tr th:only-of-type {\n",
       "        vertical-align: middle;\n",
       "    }\n",
       "\n",
       "    .dataframe tbody tr th {\n",
       "        vertical-align: top;\n",
       "    }\n",
       "\n",
       "    .dataframe thead th {\n",
       "        text-align: right;\n",
       "    }\n",
       "</style>\n",
       "<table border=\"1\" class=\"dataframe\">\n",
       "  <thead>\n",
       "    <tr style=\"text-align: right;\">\n",
       "      <th></th>\n",
       "      <th>platform</th>\n",
       "      <th>channel_id</th>\n",
       "      <th>channel_name</th>\n",
       "      <th>peak_viewers</th>\n",
       "      <th>average_viewers</th>\n",
       "      <th>live_views</th>\n",
       "    </tr>\n",
       "  </thead>\n",
       "  <tbody>\n",
       "    <tr>\n",
       "      <th>0</th>\n",
       "      <td>twitch</td>\n",
       "      <td>36029255</td>\n",
       "      <td>riotgames</td>\n",
       "      <td>451088</td>\n",
       "      <td>140144</td>\n",
       "      <td>18089295.0</td>\n",
       "    </tr>\n",
       "    <tr>\n",
       "      <th>1</th>\n",
       "      <td>twitch</td>\n",
       "      <td>156037856</td>\n",
       "      <td>fextralife</td>\n",
       "      <td>92467</td>\n",
       "      <td>46435</td>\n",
       "      <td>7947278.0</td>\n",
       "    </tr>\n",
       "    <tr>\n",
       "      <th>2</th>\n",
       "      <td>twitch</td>\n",
       "      <td>181077473</td>\n",
       "      <td>gaules</td>\n",
       "      <td>366056</td>\n",
       "      <td>23186</td>\n",
       "      <td>8666948.0</td>\n",
       "    </tr>\n",
       "    <tr>\n",
       "      <th>3</th>\n",
       "      <td>twitch</td>\n",
       "      <td>87056709</td>\n",
       "      <td>pgl_dota2</td>\n",
       "      <td>155951</td>\n",
       "      <td>65254</td>\n",
       "      <td>14999932.0</td>\n",
       "    </tr>\n",
       "    <tr>\n",
       "      <th>4</th>\n",
       "      <td>twitch</td>\n",
       "      <td>622498423</td>\n",
       "      <td>otplol_</td>\n",
       "      <td>111180</td>\n",
       "      <td>16371</td>\n",
       "      <td>3935568.0</td>\n",
       "    </tr>\n",
       "  </tbody>\n",
       "</table>\n",
       "</div>"
      ],
      "text/plain": [
       "  platform  channel_id channel_name  peak_viewers  average_viewers  live_views\n",
       "0   twitch    36029255    riotgames        451088           140144  18089295.0\n",
       "1   twitch   156037856   fextralife         92467            46435   7947278.0\n",
       "2   twitch   181077473       gaules        366056            23186   8666948.0\n",
       "3   twitch    87056709    pgl_dota2        155951            65254  14999932.0\n",
       "4   twitch   622498423      otplol_        111180            16371   3935568.0"
      ]
     },
     "execution_count": 9,
     "metadata": {},
     "output_type": "execute_result"
    }
   ],
   "source": [
    "views = pd.read_csv('../data/views.csv')\n",
    "\n",
    "views.head()"
   ]
  },
  {
   "cell_type": "code",
   "execution_count": 10,
   "id": "777619ba",
   "metadata": {},
   "outputs": [
    {
     "data": {
      "text/plain": [
       "Index(['platform', 'channel_id', 'channel_name', 'peak_viewers',\n",
       "       'average_viewers', 'live_views'],\n",
       "      dtype='object')"
      ]
     },
     "execution_count": 10,
     "metadata": {},
     "output_type": "execute_result"
    }
   ],
   "source": [
    "views.columns"
   ]
  },
  {
   "cell_type": "code",
   "execution_count": 11,
   "id": "6ffc0ca3",
   "metadata": {},
   "outputs": [
    {
     "name": "stdout",
     "output_type": "stream",
     "text": [
      "<class 'pandas.core.frame.DataFrame'>\n",
      "RangeIndex: 100 entries, 0 to 99\n",
      "Data columns (total 6 columns):\n",
      " #   Column           Non-Null Count  Dtype  \n",
      "---  ------           --------------  -----  \n",
      " 0   platform         100 non-null    object \n",
      " 1   channel_id       100 non-null    int64  \n",
      " 2   channel_name     100 non-null    object \n",
      " 3   peak_viewers     100 non-null    int64  \n",
      " 4   average_viewers  100 non-null    int64  \n",
      " 5   live_views       97 non-null     float64\n",
      "dtypes: float64(1), int64(3), object(2)\n",
      "memory usage: 15.8 KB\n"
     ]
    }
   ],
   "source": [
    "views.info(memory_usage='deep')"
   ]
  },
  {
   "cell_type": "markdown",
   "id": "f524aac8",
   "metadata": {},
   "source": [
    "# Limpieza de datos"
   ]
  },
  {
   "cell_type": "markdown",
   "id": "585ce6d3",
   "metadata": {},
   "source": [
    "## Tabla Channel"
   ]
  },
  {
   "cell_type": "code",
   "execution_count": 12,
   "id": "2ec97072",
   "metadata": {},
   "outputs": [
    {
     "data": {
      "text/html": [
       "<div>\n",
       "<style scoped>\n",
       "    .dataframe tbody tr th:only-of-type {\n",
       "        vertical-align: middle;\n",
       "    }\n",
       "\n",
       "    .dataframe tbody tr th {\n",
       "        vertical-align: top;\n",
       "    }\n",
       "\n",
       "    .dataframe thead th {\n",
       "        text-align: right;\n",
       "    }\n",
       "</style>\n",
       "<table border=\"1\" class=\"dataframe\">\n",
       "  <thead>\n",
       "    <tr style=\"text-align: right;\">\n",
       "      <th></th>\n",
       "      <th>platform</th>\n",
       "      <th>channel_id</th>\n",
       "      <th>channel_name</th>\n",
       "      <th>followers_gain</th>\n",
       "      <th>last_streamed_game</th>\n",
       "      <th>channel_country</th>\n",
       "      <th>stream_language</th>\n",
       "      <th>partnership_status</th>\n",
       "      <th>channel_type</th>\n",
       "    </tr>\n",
       "  </thead>\n",
       "  <tbody>\n",
       "    <tr>\n",
       "      <th>0</th>\n",
       "      <td>twitch</td>\n",
       "      <td>36029255</td>\n",
       "      <td>riotgames</td>\n",
       "      <td>63633</td>\n",
       "      <td>League of Legends</td>\n",
       "      <td>NaN</td>\n",
       "      <td>en</td>\n",
       "      <td>partner</td>\n",
       "      <td>Organization</td>\n",
       "    </tr>\n",
       "    <tr>\n",
       "      <th>1</th>\n",
       "      <td>twitch</td>\n",
       "      <td>156037856</td>\n",
       "      <td>fextralife</td>\n",
       "      <td>48484</td>\n",
       "      <td>Overwatch 2</td>\n",
       "      <td>NaN</td>\n",
       "      <td>en</td>\n",
       "      <td>partner</td>\n",
       "      <td>Organization</td>\n",
       "    </tr>\n",
       "    <tr>\n",
       "      <th>2</th>\n",
       "      <td>twitch</td>\n",
       "      <td>181077473</td>\n",
       "      <td>gaules</td>\n",
       "      <td>16190</td>\n",
       "      <td>Counter-Strike: Global Offensive</td>\n",
       "      <td>BR</td>\n",
       "      <td>pt</td>\n",
       "      <td>partner</td>\n",
       "      <td>Male</td>\n",
       "    </tr>\n",
       "    <tr>\n",
       "      <th>3</th>\n",
       "      <td>twitch</td>\n",
       "      <td>87056709</td>\n",
       "      <td>pgl_dota2</td>\n",
       "      <td>34726</td>\n",
       "      <td>Dota 2</td>\n",
       "      <td>RO</td>\n",
       "      <td>en</td>\n",
       "      <td>partner</td>\n",
       "      <td>Organization</td>\n",
       "    </tr>\n",
       "    <tr>\n",
       "      <th>4</th>\n",
       "      <td>twitch</td>\n",
       "      <td>622498423</td>\n",
       "      <td>otplol_</td>\n",
       "      <td>5465</td>\n",
       "      <td>League of Legends</td>\n",
       "      <td>FR</td>\n",
       "      <td>fr</td>\n",
       "      <td>partner</td>\n",
       "      <td>Organization</td>\n",
       "    </tr>\n",
       "  </tbody>\n",
       "</table>\n",
       "</div>"
      ],
      "text/plain": [
       "  platform  channel_id channel_name  followers_gain  \\\n",
       "0   twitch    36029255    riotgames           63633   \n",
       "1   twitch   156037856   fextralife           48484   \n",
       "2   twitch   181077473       gaules           16190   \n",
       "3   twitch    87056709    pgl_dota2           34726   \n",
       "4   twitch   622498423      otplol_            5465   \n",
       "\n",
       "                 last_streamed_game channel_country stream_language  \\\n",
       "0                 League of Legends             NaN              en   \n",
       "1                       Overwatch 2             NaN              en   \n",
       "2  Counter-Strike: Global Offensive              BR              pt   \n",
       "3                            Dota 2              RO              en   \n",
       "4                 League of Legends              FR              fr   \n",
       "\n",
       "  partnership_status  channel_type  \n",
       "0            partner  Organization  \n",
       "1            partner  Organization  \n",
       "2            partner          Male  \n",
       "3            partner  Organization  \n",
       "4            partner  Organization  "
      ]
     },
     "execution_count": 12,
     "metadata": {},
     "output_type": "execute_result"
    }
   ],
   "source": [
    "channel.head()"
   ]
  },
  {
   "cell_type": "code",
   "execution_count": 13,
   "id": "a7a2b9cf",
   "metadata": {},
   "outputs": [
    {
     "data": {
      "text/plain": [
       "platform               0\n",
       "channel_id             0\n",
       "channel_name           0\n",
       "followers_gain         0\n",
       "last_streamed_game     0\n",
       "channel_country       12\n",
       "stream_language        0\n",
       "partnership_status     0\n",
       "channel_type           4\n",
       "dtype: int64"
      ]
     },
     "execution_count": 13,
     "metadata": {},
     "output_type": "execute_result"
    }
   ],
   "source": [
    "nan_null = channel.isna().sum()\n",
    "\n",
    "nan_null"
   ]
  },
  {
   "cell_type": "code",
   "execution_count": 14,
   "id": "57259f32",
   "metadata": {},
   "outputs": [
    {
     "data": {
      "text/html": [
       "<div>\n",
       "<style scoped>\n",
       "    .dataframe tbody tr th:only-of-type {\n",
       "        vertical-align: middle;\n",
       "    }\n",
       "\n",
       "    .dataframe tbody tr th {\n",
       "        vertical-align: top;\n",
       "    }\n",
       "\n",
       "    .dataframe thead th {\n",
       "        text-align: right;\n",
       "    }\n",
       "</style>\n",
       "<table border=\"1\" class=\"dataframe\">\n",
       "  <thead>\n",
       "    <tr style=\"text-align: right;\">\n",
       "      <th></th>\n",
       "      <th>platform</th>\n",
       "      <th>channel_id</th>\n",
       "      <th>channel_name</th>\n",
       "      <th>followers_gain</th>\n",
       "      <th>last_streamed_game</th>\n",
       "      <th>stream_language</th>\n",
       "      <th>partnership_status</th>\n",
       "    </tr>\n",
       "  </thead>\n",
       "  <tbody>\n",
       "    <tr>\n",
       "      <th>0</th>\n",
       "      <td>twitch</td>\n",
       "      <td>36029255</td>\n",
       "      <td>riotgames</td>\n",
       "      <td>63633</td>\n",
       "      <td>League of Legends</td>\n",
       "      <td>en</td>\n",
       "      <td>partner</td>\n",
       "    </tr>\n",
       "    <tr>\n",
       "      <th>1</th>\n",
       "      <td>twitch</td>\n",
       "      <td>156037856</td>\n",
       "      <td>fextralife</td>\n",
       "      <td>48484</td>\n",
       "      <td>Overwatch 2</td>\n",
       "      <td>en</td>\n",
       "      <td>partner</td>\n",
       "    </tr>\n",
       "    <tr>\n",
       "      <th>2</th>\n",
       "      <td>twitch</td>\n",
       "      <td>181077473</td>\n",
       "      <td>gaules</td>\n",
       "      <td>16190</td>\n",
       "      <td>Counter-Strike: Global Offensive</td>\n",
       "      <td>pt</td>\n",
       "      <td>partner</td>\n",
       "    </tr>\n",
       "    <tr>\n",
       "      <th>3</th>\n",
       "      <td>twitch</td>\n",
       "      <td>87056709</td>\n",
       "      <td>pgl_dota2</td>\n",
       "      <td>34726</td>\n",
       "      <td>Dota 2</td>\n",
       "      <td>en</td>\n",
       "      <td>partner</td>\n",
       "    </tr>\n",
       "    <tr>\n",
       "      <th>4</th>\n",
       "      <td>twitch</td>\n",
       "      <td>622498423</td>\n",
       "      <td>otplol_</td>\n",
       "      <td>5465</td>\n",
       "      <td>League of Legends</td>\n",
       "      <td>fr</td>\n",
       "      <td>partner</td>\n",
       "    </tr>\n",
       "  </tbody>\n",
       "</table>\n",
       "</div>"
      ],
      "text/plain": [
       "  platform  channel_id channel_name  followers_gain  \\\n",
       "0   twitch    36029255    riotgames           63633   \n",
       "1   twitch   156037856   fextralife           48484   \n",
       "2   twitch   181077473       gaules           16190   \n",
       "3   twitch    87056709    pgl_dota2           34726   \n",
       "4   twitch   622498423      otplol_            5465   \n",
       "\n",
       "                 last_streamed_game stream_language partnership_status  \n",
       "0                 League of Legends              en            partner  \n",
       "1                       Overwatch 2              en            partner  \n",
       "2  Counter-Strike: Global Offensive              pt            partner  \n",
       "3                            Dota 2              en            partner  \n",
       "4                 League of Legends              fr            partner  "
      ]
     },
     "execution_count": 14,
     "metadata": {},
     "output_type": "execute_result"
    }
   ],
   "source": [
    "channel = channel.drop(columns = ['channel_country', 'channel_type'])\n",
    "\n",
    "channel.head()"
   ]
  },
  {
   "cell_type": "code",
   "execution_count": 17,
   "id": "43feaf2d",
   "metadata": {},
   "outputs": [
    {
     "data": {
      "text/plain": [
       "0"
      ]
     },
     "execution_count": 17,
     "metadata": {},
     "output_type": "execute_result"
    }
   ],
   "source": [
    "channel.duplicated().sum()"
   ]
  },
  {
   "cell_type": "code",
   "execution_count": 20,
   "id": "451376eb",
   "metadata": {},
   "outputs": [],
   "source": [
    "channel.stream_language = [e.upper() for e in channel.stream_language]"
   ]
  },
  {
   "cell_type": "code",
   "execution_count": 22,
   "id": "94c5d18b",
   "metadata": {},
   "outputs": [
    {
     "data": {
      "text/plain": [
       "0    EN\n",
       "1    EN\n",
       "2    PT\n",
       "3    EN\n",
       "4    FR\n",
       "Name: stream_language, dtype: object"
      ]
     },
     "execution_count": 22,
     "metadata": {},
     "output_type": "execute_result"
    }
   ],
   "source": [
    "channel.stream_language.head()"
   ]
  },
  {
   "cell_type": "code",
   "execution_count": 23,
   "id": "66a03cb5",
   "metadata": {},
   "outputs": [
    {
     "data": {
      "text/html": [
       "<div>\n",
       "<style scoped>\n",
       "    .dataframe tbody tr th:only-of-type {\n",
       "        vertical-align: middle;\n",
       "    }\n",
       "\n",
       "    .dataframe tbody tr th {\n",
       "        vertical-align: top;\n",
       "    }\n",
       "\n",
       "    .dataframe thead th {\n",
       "        text-align: right;\n",
       "    }\n",
       "</style>\n",
       "<table border=\"1\" class=\"dataframe\">\n",
       "  <thead>\n",
       "    <tr style=\"text-align: right;\">\n",
       "      <th></th>\n",
       "      <th>platform</th>\n",
       "      <th>channel_id</th>\n",
       "      <th>channel_name</th>\n",
       "      <th>followers_gain</th>\n",
       "      <th>last_streamed_game</th>\n",
       "      <th>stream_language</th>\n",
       "      <th>partnership_status</th>\n",
       "    </tr>\n",
       "  </thead>\n",
       "  <tbody>\n",
       "    <tr>\n",
       "      <th>0</th>\n",
       "      <td>twitch</td>\n",
       "      <td>36029255</td>\n",
       "      <td>riotgames</td>\n",
       "      <td>63633</td>\n",
       "      <td>League of Legends</td>\n",
       "      <td>EN</td>\n",
       "      <td>partner</td>\n",
       "    </tr>\n",
       "    <tr>\n",
       "      <th>1</th>\n",
       "      <td>twitch</td>\n",
       "      <td>156037856</td>\n",
       "      <td>fextralife</td>\n",
       "      <td>48484</td>\n",
       "      <td>Overwatch 2</td>\n",
       "      <td>EN</td>\n",
       "      <td>partner</td>\n",
       "    </tr>\n",
       "    <tr>\n",
       "      <th>2</th>\n",
       "      <td>twitch</td>\n",
       "      <td>181077473</td>\n",
       "      <td>gaules</td>\n",
       "      <td>16190</td>\n",
       "      <td>Counter-Strike: Global Offensive</td>\n",
       "      <td>PT</td>\n",
       "      <td>partner</td>\n",
       "    </tr>\n",
       "    <tr>\n",
       "      <th>3</th>\n",
       "      <td>twitch</td>\n",
       "      <td>87056709</td>\n",
       "      <td>pgl_dota2</td>\n",
       "      <td>34726</td>\n",
       "      <td>Dota 2</td>\n",
       "      <td>EN</td>\n",
       "      <td>partner</td>\n",
       "    </tr>\n",
       "    <tr>\n",
       "      <th>4</th>\n",
       "      <td>twitch</td>\n",
       "      <td>622498423</td>\n",
       "      <td>otplol_</td>\n",
       "      <td>5465</td>\n",
       "      <td>League of Legends</td>\n",
       "      <td>FR</td>\n",
       "      <td>partner</td>\n",
       "    </tr>\n",
       "  </tbody>\n",
       "</table>\n",
       "</div>"
      ],
      "text/plain": [
       "  platform  channel_id channel_name  followers_gain  \\\n",
       "0   twitch    36029255    riotgames           63633   \n",
       "1   twitch   156037856   fextralife           48484   \n",
       "2   twitch   181077473       gaules           16190   \n",
       "3   twitch    87056709    pgl_dota2           34726   \n",
       "4   twitch   622498423      otplol_            5465   \n",
       "\n",
       "                 last_streamed_game stream_language partnership_status  \n",
       "0                 League of Legends              EN            partner  \n",
       "1                       Overwatch 2              EN            partner  \n",
       "2  Counter-Strike: Global Offensive              PT            partner  \n",
       "3                            Dota 2              EN            partner  \n",
       "4                 League of Legends              FR            partner  "
      ]
     },
     "execution_count": 23,
     "metadata": {},
     "output_type": "execute_result"
    }
   ],
   "source": [
    "channel.head()"
   ]
  },
  {
   "cell_type": "markdown",
   "id": "77b51639",
   "metadata": {},
   "source": [
    "## Tabla Views"
   ]
  },
  {
   "cell_type": "code",
   "execution_count": 24,
   "id": "c3443cab",
   "metadata": {},
   "outputs": [
    {
     "data": {
      "text/html": [
       "<div>\n",
       "<style scoped>\n",
       "    .dataframe tbody tr th:only-of-type {\n",
       "        vertical-align: middle;\n",
       "    }\n",
       "\n",
       "    .dataframe tbody tr th {\n",
       "        vertical-align: top;\n",
       "    }\n",
       "\n",
       "    .dataframe thead th {\n",
       "        text-align: right;\n",
       "    }\n",
       "</style>\n",
       "<table border=\"1\" class=\"dataframe\">\n",
       "  <thead>\n",
       "    <tr style=\"text-align: right;\">\n",
       "      <th></th>\n",
       "      <th>platform</th>\n",
       "      <th>channel_id</th>\n",
       "      <th>channel_name</th>\n",
       "      <th>peak_viewers</th>\n",
       "      <th>average_viewers</th>\n",
       "      <th>live_views</th>\n",
       "    </tr>\n",
       "  </thead>\n",
       "  <tbody>\n",
       "    <tr>\n",
       "      <th>0</th>\n",
       "      <td>twitch</td>\n",
       "      <td>36029255</td>\n",
       "      <td>riotgames</td>\n",
       "      <td>451088</td>\n",
       "      <td>140144</td>\n",
       "      <td>18089295.0</td>\n",
       "    </tr>\n",
       "    <tr>\n",
       "      <th>1</th>\n",
       "      <td>twitch</td>\n",
       "      <td>156037856</td>\n",
       "      <td>fextralife</td>\n",
       "      <td>92467</td>\n",
       "      <td>46435</td>\n",
       "      <td>7947278.0</td>\n",
       "    </tr>\n",
       "    <tr>\n",
       "      <th>2</th>\n",
       "      <td>twitch</td>\n",
       "      <td>181077473</td>\n",
       "      <td>gaules</td>\n",
       "      <td>366056</td>\n",
       "      <td>23186</td>\n",
       "      <td>8666948.0</td>\n",
       "    </tr>\n",
       "    <tr>\n",
       "      <th>3</th>\n",
       "      <td>twitch</td>\n",
       "      <td>87056709</td>\n",
       "      <td>pgl_dota2</td>\n",
       "      <td>155951</td>\n",
       "      <td>65254</td>\n",
       "      <td>14999932.0</td>\n",
       "    </tr>\n",
       "    <tr>\n",
       "      <th>4</th>\n",
       "      <td>twitch</td>\n",
       "      <td>622498423</td>\n",
       "      <td>otplol_</td>\n",
       "      <td>111180</td>\n",
       "      <td>16371</td>\n",
       "      <td>3935568.0</td>\n",
       "    </tr>\n",
       "  </tbody>\n",
       "</table>\n",
       "</div>"
      ],
      "text/plain": [
       "  platform  channel_id channel_name  peak_viewers  average_viewers  live_views\n",
       "0   twitch    36029255    riotgames        451088           140144  18089295.0\n",
       "1   twitch   156037856   fextralife         92467            46435   7947278.0\n",
       "2   twitch   181077473       gaules        366056            23186   8666948.0\n",
       "3   twitch    87056709    pgl_dota2        155951            65254  14999932.0\n",
       "4   twitch   622498423      otplol_        111180            16371   3935568.0"
      ]
     },
     "execution_count": 24,
     "metadata": {},
     "output_type": "execute_result"
    }
   ],
   "source": [
    "views.head()"
   ]
  },
  {
   "cell_type": "code",
   "execution_count": 26,
   "id": "a3271d48",
   "metadata": {},
   "outputs": [
    {
     "data": {
      "text/plain": [
       "0"
      ]
     },
     "execution_count": 26,
     "metadata": {},
     "output_type": "execute_result"
    }
   ],
   "source": [
    "views.duplicated().sum()"
   ]
  },
  {
   "cell_type": "code",
   "execution_count": 27,
   "id": "9c2ca211",
   "metadata": {},
   "outputs": [
    {
     "data": {
      "text/plain": [
       "platform           0\n",
       "channel_id         0\n",
       "channel_name       0\n",
       "peak_viewers       0\n",
       "average_viewers    0\n",
       "live_views         3\n",
       "dtype: int64"
      ]
     },
     "execution_count": 27,
     "metadata": {},
     "output_type": "execute_result"
    }
   ],
   "source": [
    "views.isna().sum()"
   ]
  },
  {
   "cell_type": "code",
   "execution_count": 28,
   "id": "f4c395b8",
   "metadata": {},
   "outputs": [
    {
     "data": {
      "text/plain": [
       "(100, 6)"
      ]
     },
     "execution_count": 28,
     "metadata": {},
     "output_type": "execute_result"
    }
   ],
   "source": [
    "views.shape"
   ]
  },
  {
   "cell_type": "code",
   "execution_count": 29,
   "id": "631397d2",
   "metadata": {},
   "outputs": [],
   "source": [
    "views.live_views.fillna('Unknow', inplace=True)"
   ]
  },
  {
   "cell_type": "code",
   "execution_count": 30,
   "id": "f046712d",
   "metadata": {},
   "outputs": [
    {
     "data": {
      "text/plain": [
       "platform           0\n",
       "channel_id         0\n",
       "channel_name       0\n",
       "peak_viewers       0\n",
       "average_viewers    0\n",
       "live_views         0\n",
       "dtype: int64"
      ]
     },
     "execution_count": 30,
     "metadata": {},
     "output_type": "execute_result"
    }
   ],
   "source": [
    "views.isna().sum()"
   ]
  },
  {
   "cell_type": "markdown",
   "id": "45b0a77d",
   "metadata": {},
   "source": [
    "# Union de tablas"
   ]
  },
  {
   "cell_type": "code",
   "execution_count": 32,
   "id": "13f0a7d1",
   "metadata": {},
   "outputs": [],
   "source": [
    "channel_c = channel.copy()\n",
    "views_c = views.copy()\n",
    "time_data_c = time_data.copy()"
   ]
  },
  {
   "cell_type": "code",
   "execution_count": 47,
   "id": "2a6b54cd",
   "metadata": {},
   "outputs": [],
   "source": [
    "streams = pd.merge(channel_c,views_c, how = 'outer', on = ['channel_id','platform','channel_name'])"
   ]
  },
  {
   "cell_type": "code",
   "execution_count": 43,
   "id": "205ce35b",
   "metadata": {},
   "outputs": [
    {
     "data": {
      "text/html": [
       "<div>\n",
       "<style scoped>\n",
       "    .dataframe tbody tr th:only-of-type {\n",
       "        vertical-align: middle;\n",
       "    }\n",
       "\n",
       "    .dataframe tbody tr th {\n",
       "        vertical-align: top;\n",
       "    }\n",
       "\n",
       "    .dataframe thead th {\n",
       "        text-align: right;\n",
       "    }\n",
       "</style>\n",
       "<table border=\"1\" class=\"dataframe\">\n",
       "  <thead>\n",
       "    <tr style=\"text-align: right;\">\n",
       "      <th></th>\n",
       "      <th>platform</th>\n",
       "      <th>channel_id</th>\n",
       "      <th>channel_name</th>\n",
       "      <th>followers_gain</th>\n",
       "      <th>last_streamed_game</th>\n",
       "      <th>stream_language</th>\n",
       "      <th>partnership_status</th>\n",
       "      <th>peak_viewers</th>\n",
       "      <th>average_viewers</th>\n",
       "      <th>live_views</th>\n",
       "    </tr>\n",
       "  </thead>\n",
       "  <tbody>\n",
       "    <tr>\n",
       "      <th>0</th>\n",
       "      <td>twitch</td>\n",
       "      <td>36029255</td>\n",
       "      <td>riotgames</td>\n",
       "      <td>63633</td>\n",
       "      <td>League of Legends</td>\n",
       "      <td>EN</td>\n",
       "      <td>partner</td>\n",
       "      <td>451088</td>\n",
       "      <td>140144</td>\n",
       "      <td>18089295.0</td>\n",
       "    </tr>\n",
       "    <tr>\n",
       "      <th>1</th>\n",
       "      <td>twitch</td>\n",
       "      <td>156037856</td>\n",
       "      <td>fextralife</td>\n",
       "      <td>48484</td>\n",
       "      <td>Overwatch 2</td>\n",
       "      <td>EN</td>\n",
       "      <td>partner</td>\n",
       "      <td>92467</td>\n",
       "      <td>46435</td>\n",
       "      <td>7947278.0</td>\n",
       "    </tr>\n",
       "    <tr>\n",
       "      <th>2</th>\n",
       "      <td>twitch</td>\n",
       "      <td>181077473</td>\n",
       "      <td>gaules</td>\n",
       "      <td>16190</td>\n",
       "      <td>Counter-Strike: Global Offensive</td>\n",
       "      <td>PT</td>\n",
       "      <td>partner</td>\n",
       "      <td>366056</td>\n",
       "      <td>23186</td>\n",
       "      <td>8666948.0</td>\n",
       "    </tr>\n",
       "    <tr>\n",
       "      <th>3</th>\n",
       "      <td>twitch</td>\n",
       "      <td>87056709</td>\n",
       "      <td>pgl_dota2</td>\n",
       "      <td>34726</td>\n",
       "      <td>Dota 2</td>\n",
       "      <td>EN</td>\n",
       "      <td>partner</td>\n",
       "      <td>155951</td>\n",
       "      <td>65254</td>\n",
       "      <td>14999932.0</td>\n",
       "    </tr>\n",
       "    <tr>\n",
       "      <th>4</th>\n",
       "      <td>twitch</td>\n",
       "      <td>622498423</td>\n",
       "      <td>otplol_</td>\n",
       "      <td>5465</td>\n",
       "      <td>League of Legends</td>\n",
       "      <td>FR</td>\n",
       "      <td>partner</td>\n",
       "      <td>111180</td>\n",
       "      <td>16371</td>\n",
       "      <td>3935568.0</td>\n",
       "    </tr>\n",
       "  </tbody>\n",
       "</table>\n",
       "</div>"
      ],
      "text/plain": [
       "  platform  channel_id channel_name  followers_gain  \\\n",
       "0   twitch    36029255    riotgames           63633   \n",
       "1   twitch   156037856   fextralife           48484   \n",
       "2   twitch   181077473       gaules           16190   \n",
       "3   twitch    87056709    pgl_dota2           34726   \n",
       "4   twitch   622498423      otplol_            5465   \n",
       "\n",
       "                 last_streamed_game stream_language partnership_status  \\\n",
       "0                 League of Legends              EN            partner   \n",
       "1                       Overwatch 2              EN            partner   \n",
       "2  Counter-Strike: Global Offensive              PT            partner   \n",
       "3                            Dota 2              EN            partner   \n",
       "4                 League of Legends              FR            partner   \n",
       "\n",
       "   peak_viewers  average_viewers  live_views  \n",
       "0        451088           140144  18089295.0  \n",
       "1         92467            46435   7947278.0  \n",
       "2        366056            23186   8666948.0  \n",
       "3        155951            65254  14999932.0  \n",
       "4        111180            16371   3935568.0  "
      ]
     },
     "execution_count": 43,
     "metadata": {},
     "output_type": "execute_result"
    }
   ],
   "source": [
    "streams.head()"
   ]
  },
  {
   "cell_type": "code",
   "execution_count": 44,
   "id": "98663a5e",
   "metadata": {},
   "outputs": [
    {
     "data": {
      "text/plain": [
       "(100, 10)"
      ]
     },
     "execution_count": 44,
     "metadata": {},
     "output_type": "execute_result"
    }
   ],
   "source": [
    "streams.shape"
   ]
  },
  {
   "cell_type": "code",
   "execution_count": 45,
   "id": "a907a36f",
   "metadata": {},
   "outputs": [
    {
     "data": {
      "text/plain": [
       "Index(['platform', 'channel_id', 'channel_name', 'hours_watched',\n",
       "       'airtime_in_m'],\n",
       "      dtype='object')"
      ]
     },
     "execution_count": 45,
     "metadata": {},
     "output_type": "execute_result"
    }
   ],
   "source": [
    "time_data_c.columns"
   ]
  },
  {
   "cell_type": "code",
   "execution_count": 48,
   "id": "108c3d03",
   "metadata": {},
   "outputs": [],
   "source": [
    "streams = pd.merge(streams,time_data_c, how = 'outer', on = ['channel_id','platform','channel_name'])"
   ]
  },
  {
   "cell_type": "code",
   "execution_count": 49,
   "id": "9f2754c0",
   "metadata": {},
   "outputs": [
    {
     "data": {
      "text/html": [
       "<div>\n",
       "<style scoped>\n",
       "    .dataframe tbody tr th:only-of-type {\n",
       "        vertical-align: middle;\n",
       "    }\n",
       "\n",
       "    .dataframe tbody tr th {\n",
       "        vertical-align: top;\n",
       "    }\n",
       "\n",
       "    .dataframe thead th {\n",
       "        text-align: right;\n",
       "    }\n",
       "</style>\n",
       "<table border=\"1\" class=\"dataframe\">\n",
       "  <thead>\n",
       "    <tr style=\"text-align: right;\">\n",
       "      <th></th>\n",
       "      <th>platform</th>\n",
       "      <th>channel_id</th>\n",
       "      <th>channel_name</th>\n",
       "      <th>followers_gain</th>\n",
       "      <th>last_streamed_game</th>\n",
       "      <th>stream_language</th>\n",
       "      <th>partnership_status</th>\n",
       "      <th>peak_viewers</th>\n",
       "      <th>average_viewers</th>\n",
       "      <th>live_views</th>\n",
       "      <th>hours_watched</th>\n",
       "      <th>airtime_in_m</th>\n",
       "    </tr>\n",
       "  </thead>\n",
       "  <tbody>\n",
       "    <tr>\n",
       "      <th>0</th>\n",
       "      <td>twitch</td>\n",
       "      <td>36029255</td>\n",
       "      <td>riotgames</td>\n",
       "      <td>63633</td>\n",
       "      <td>League of Legends</td>\n",
       "      <td>EN</td>\n",
       "      <td>partner</td>\n",
       "      <td>451088</td>\n",
       "      <td>140144</td>\n",
       "      <td>18089295.0</td>\n",
       "      <td>10347268</td>\n",
       "      <td>4430</td>\n",
       "    </tr>\n",
       "    <tr>\n",
       "      <th>1</th>\n",
       "      <td>twitch</td>\n",
       "      <td>156037856</td>\n",
       "      <td>fextralife</td>\n",
       "      <td>48484</td>\n",
       "      <td>Overwatch 2</td>\n",
       "      <td>EN</td>\n",
       "      <td>partner</td>\n",
       "      <td>92467</td>\n",
       "      <td>46435</td>\n",
       "      <td>7947278.0</td>\n",
       "      <td>4709216</td>\n",
       "      <td>6085</td>\n",
       "    </tr>\n",
       "    <tr>\n",
       "      <th>2</th>\n",
       "      <td>twitch</td>\n",
       "      <td>181077473</td>\n",
       "      <td>gaules</td>\n",
       "      <td>16190</td>\n",
       "      <td>Counter-Strike: Global Offensive</td>\n",
       "      <td>PT</td>\n",
       "      <td>partner</td>\n",
       "      <td>366056</td>\n",
       "      <td>23186</td>\n",
       "      <td>8666948.0</td>\n",
       "      <td>3891316</td>\n",
       "      <td>10070</td>\n",
       "    </tr>\n",
       "    <tr>\n",
       "      <th>3</th>\n",
       "      <td>twitch</td>\n",
       "      <td>87056709</td>\n",
       "      <td>pgl_dota2</td>\n",
       "      <td>34726</td>\n",
       "      <td>Dota 2</td>\n",
       "      <td>EN</td>\n",
       "      <td>partner</td>\n",
       "      <td>155951</td>\n",
       "      <td>65254</td>\n",
       "      <td>14999932.0</td>\n",
       "      <td>3839088</td>\n",
       "      <td>3530</td>\n",
       "    </tr>\n",
       "    <tr>\n",
       "      <th>4</th>\n",
       "      <td>twitch</td>\n",
       "      <td>622498423</td>\n",
       "      <td>otplol_</td>\n",
       "      <td>5465</td>\n",
       "      <td>League of Legends</td>\n",
       "      <td>FR</td>\n",
       "      <td>partner</td>\n",
       "      <td>111180</td>\n",
       "      <td>16371</td>\n",
       "      <td>3935568.0</td>\n",
       "      <td>2750139</td>\n",
       "      <td>10080</td>\n",
       "    </tr>\n",
       "  </tbody>\n",
       "</table>\n",
       "</div>"
      ],
      "text/plain": [
       "  platform  channel_id channel_name  followers_gain  \\\n",
       "0   twitch    36029255    riotgames           63633   \n",
       "1   twitch   156037856   fextralife           48484   \n",
       "2   twitch   181077473       gaules           16190   \n",
       "3   twitch    87056709    pgl_dota2           34726   \n",
       "4   twitch   622498423      otplol_            5465   \n",
       "\n",
       "                 last_streamed_game stream_language partnership_status  \\\n",
       "0                 League of Legends              EN            partner   \n",
       "1                       Overwatch 2              EN            partner   \n",
       "2  Counter-Strike: Global Offensive              PT            partner   \n",
       "3                            Dota 2              EN            partner   \n",
       "4                 League of Legends              FR            partner   \n",
       "\n",
       "   peak_viewers  average_viewers  live_views  hours_watched  airtime_in_m  \n",
       "0        451088           140144  18089295.0       10347268          4430  \n",
       "1         92467            46435   7947278.0        4709216          6085  \n",
       "2        366056            23186   8666948.0        3891316         10070  \n",
       "3        155951            65254  14999932.0        3839088          3530  \n",
       "4        111180            16371   3935568.0        2750139         10080  "
      ]
     },
     "execution_count": 49,
     "metadata": {},
     "output_type": "execute_result"
    }
   ],
   "source": [
    "streams.head()"
   ]
  },
  {
   "cell_type": "code",
   "execution_count": 50,
   "id": "dccca17d",
   "metadata": {},
   "outputs": [
    {
     "data": {
      "text/plain": [
       "(100, 12)"
      ]
     },
     "execution_count": 50,
     "metadata": {},
     "output_type": "execute_result"
    }
   ],
   "source": [
    "streams.shape"
   ]
  },
  {
   "cell_type": "code",
   "execution_count": 54,
   "id": "cf204d63",
   "metadata": {},
   "outputs": [],
   "source": [
    "streams_final = streams[(streams.stream_language == 'EN') | (streams.stream_language == 'ES')].reset_index(drop = True)"
   ]
  },
  {
   "cell_type": "code",
   "execution_count": 60,
   "id": "3004dc0f",
   "metadata": {},
   "outputs": [
    {
     "data": {
      "text/html": [
       "<div>\n",
       "<style scoped>\n",
       "    .dataframe tbody tr th:only-of-type {\n",
       "        vertical-align: middle;\n",
       "    }\n",
       "\n",
       "    .dataframe tbody tr th {\n",
       "        vertical-align: top;\n",
       "    }\n",
       "\n",
       "    .dataframe thead th {\n",
       "        text-align: right;\n",
       "    }\n",
       "</style>\n",
       "<table border=\"1\" class=\"dataframe\">\n",
       "  <thead>\n",
       "    <tr style=\"text-align: right;\">\n",
       "      <th></th>\n",
       "      <th>platform</th>\n",
       "      <th>channel_id</th>\n",
       "      <th>channel_name</th>\n",
       "      <th>followers_gain</th>\n",
       "      <th>last_streamed_game</th>\n",
       "      <th>stream_language</th>\n",
       "      <th>partnership_status</th>\n",
       "      <th>peak_viewers</th>\n",
       "      <th>average_viewers</th>\n",
       "      <th>live_views</th>\n",
       "      <th>hours_watched</th>\n",
       "      <th>airtime_in_m</th>\n",
       "    </tr>\n",
       "  </thead>\n",
       "  <tbody>\n",
       "    <tr>\n",
       "      <th>0</th>\n",
       "      <td>twitch</td>\n",
       "      <td>36029255</td>\n",
       "      <td>riotgames</td>\n",
       "      <td>63633</td>\n",
       "      <td>League of Legends</td>\n",
       "      <td>EN</td>\n",
       "      <td>partner</td>\n",
       "      <td>451088</td>\n",
       "      <td>140144</td>\n",
       "      <td>18089295.0</td>\n",
       "      <td>10347268</td>\n",
       "      <td>4430</td>\n",
       "    </tr>\n",
       "    <tr>\n",
       "      <th>1</th>\n",
       "      <td>twitch</td>\n",
       "      <td>156037856</td>\n",
       "      <td>fextralife</td>\n",
       "      <td>48484</td>\n",
       "      <td>Overwatch 2</td>\n",
       "      <td>EN</td>\n",
       "      <td>partner</td>\n",
       "      <td>92467</td>\n",
       "      <td>46435</td>\n",
       "      <td>7947278.0</td>\n",
       "      <td>4709216</td>\n",
       "      <td>6085</td>\n",
       "    </tr>\n",
       "    <tr>\n",
       "      <th>2</th>\n",
       "      <td>twitch</td>\n",
       "      <td>87056709</td>\n",
       "      <td>pgl_dota2</td>\n",
       "      <td>34726</td>\n",
       "      <td>Dota 2</td>\n",
       "      <td>EN</td>\n",
       "      <td>partner</td>\n",
       "      <td>155951</td>\n",
       "      <td>65254</td>\n",
       "      <td>14999932.0</td>\n",
       "      <td>3839088</td>\n",
       "      <td>3530</td>\n",
       "    </tr>\n",
       "    <tr>\n",
       "      <th>3</th>\n",
       "      <td>twitch</td>\n",
       "      <td>71092938</td>\n",
       "      <td>xqc</td>\n",
       "      <td>36001</td>\n",
       "      <td>Overwatch 2</td>\n",
       "      <td>EN</td>\n",
       "      <td>partner</td>\n",
       "      <td>113230</td>\n",
       "      <td>79877</td>\n",
       "      <td>6783454.0</td>\n",
       "      <td>2602644</td>\n",
       "      <td>1955</td>\n",
       "    </tr>\n",
       "    <tr>\n",
       "      <th>4</th>\n",
       "      <td>twitch</td>\n",
       "      <td>22346597</td>\n",
       "      <td>lvpes</td>\n",
       "      <td>8642</td>\n",
       "      <td>League of Legends</td>\n",
       "      <td>ES</td>\n",
       "      <td>partner</td>\n",
       "      <td>118126</td>\n",
       "      <td>29132</td>\n",
       "      <td>4242831.0</td>\n",
       "      <td>2070739</td>\n",
       "      <td>4265</td>\n",
       "    </tr>\n",
       "    <tr>\n",
       "      <th>5</th>\n",
       "      <td>twitch</td>\n",
       "      <td>641972806</td>\n",
       "      <td>kaicenat</td>\n",
       "      <td>76094</td>\n",
       "      <td>Just Chatting</td>\n",
       "      <td>EN</td>\n",
       "      <td>partner</td>\n",
       "      <td>140958</td>\n",
       "      <td>65733</td>\n",
       "      <td>7996715.0</td>\n",
       "      <td>1933624</td>\n",
       "      <td>1765</td>\n",
       "    </tr>\n",
       "    <tr>\n",
       "      <th>6</th>\n",
       "      <td>twitch</td>\n",
       "      <td>90075649</td>\n",
       "      <td>illojuan</td>\n",
       "      <td>25395</td>\n",
       "      <td>Pokémon Community Game</td>\n",
       "      <td>ES</td>\n",
       "      <td>partner</td>\n",
       "      <td>85495</td>\n",
       "      <td>61079</td>\n",
       "      <td>5319594.0</td>\n",
       "      <td>1883237</td>\n",
       "      <td>1850</td>\n",
       "    </tr>\n",
       "    <tr>\n",
       "      <th>7</th>\n",
       "      <td>twitch</td>\n",
       "      <td>459331509</td>\n",
       "      <td>auronplay</td>\n",
       "      <td>34144</td>\n",
       "      <td>Minecraft</td>\n",
       "      <td>ES</td>\n",
       "      <td>partner</td>\n",
       "      <td>108916</td>\n",
       "      <td>77528</td>\n",
       "      <td>7104164.0</td>\n",
       "      <td>1776672</td>\n",
       "      <td>1375</td>\n",
       "    </tr>\n",
       "    <tr>\n",
       "      <th>8</th>\n",
       "      <td>twitch</td>\n",
       "      <td>194701696</td>\n",
       "      <td>pgl_dota2en2</td>\n",
       "      <td>24367</td>\n",
       "      <td>Dota 2</td>\n",
       "      <td>EN</td>\n",
       "      <td>partner</td>\n",
       "      <td>96051</td>\n",
       "      <td>36319</td>\n",
       "      <td>5301720.0</td>\n",
       "      <td>1652477</td>\n",
       "      <td>2730</td>\n",
       "    </tr>\n",
       "    <tr>\n",
       "      <th>9</th>\n",
       "      <td>twitch</td>\n",
       "      <td>59299632</td>\n",
       "      <td>adinross</td>\n",
       "      <td>58049</td>\n",
       "      <td>Just Chatting</td>\n",
       "      <td>EN</td>\n",
       "      <td>partner</td>\n",
       "      <td>129020</td>\n",
       "      <td>67604</td>\n",
       "      <td>5646817.0</td>\n",
       "      <td>1599945</td>\n",
       "      <td>1420</td>\n",
       "    </tr>\n",
       "  </tbody>\n",
       "</table>\n",
       "</div>"
      ],
      "text/plain": [
       "  platform  channel_id  channel_name  followers_gain      last_streamed_game  \\\n",
       "0   twitch    36029255     riotgames           63633       League of Legends   \n",
       "1   twitch   156037856    fextralife           48484             Overwatch 2   \n",
       "2   twitch    87056709     pgl_dota2           34726                  Dota 2   \n",
       "3   twitch    71092938           xqc           36001             Overwatch 2   \n",
       "4   twitch    22346597         lvpes            8642       League of Legends   \n",
       "5   twitch   641972806      kaicenat           76094           Just Chatting   \n",
       "6   twitch    90075649      illojuan           25395  Pokémon Community Game   \n",
       "7   twitch   459331509     auronplay           34144               Minecraft   \n",
       "8   twitch   194701696  pgl_dota2en2           24367                  Dota 2   \n",
       "9   twitch    59299632      adinross           58049           Just Chatting   \n",
       "\n",
       "  stream_language partnership_status  peak_viewers  average_viewers  \\\n",
       "0              EN            partner        451088           140144   \n",
       "1              EN            partner         92467            46435   \n",
       "2              EN            partner        155951            65254   \n",
       "3              EN            partner        113230            79877   \n",
       "4              ES            partner        118126            29132   \n",
       "5              EN            partner        140958            65733   \n",
       "6              ES            partner         85495            61079   \n",
       "7              ES            partner        108916            77528   \n",
       "8              EN            partner         96051            36319   \n",
       "9              EN            partner        129020            67604   \n",
       "\n",
       "   live_views  hours_watched  airtime_in_m  \n",
       "0  18089295.0       10347268          4430  \n",
       "1   7947278.0        4709216          6085  \n",
       "2  14999932.0        3839088          3530  \n",
       "3   6783454.0        2602644          1955  \n",
       "4   4242831.0        2070739          4265  \n",
       "5   7996715.0        1933624          1765  \n",
       "6   5319594.0        1883237          1850  \n",
       "7   7104164.0        1776672          1375  \n",
       "8   5301720.0        1652477          2730  \n",
       "9   5646817.0        1599945          1420  "
      ]
     },
     "execution_count": 60,
     "metadata": {},
     "output_type": "execute_result"
    }
   ],
   "source": [
    "streams_final.head(10)"
   ]
  },
  {
   "cell_type": "code",
   "execution_count": 58,
   "id": "d8f934bd",
   "metadata": {},
   "outputs": [
    {
     "data": {
      "text/plain": [
       "(66, 12)"
      ]
     },
     "execution_count": 58,
     "metadata": {},
     "output_type": "execute_result"
    }
   ],
   "source": [
    "streams_final.shape"
   ]
  },
  {
   "cell_type": "code",
   "execution_count": 59,
   "id": "0e0eaa6c",
   "metadata": {},
   "outputs": [],
   "source": [
    "streams_final.to_csv('../data/streamers_ES_EN.csv')"
   ]
  },
  {
   "cell_type": "code",
   "execution_count": null,
   "id": "55bb9802",
   "metadata": {},
   "outputs": [],
   "source": []
  }
 ],
 "metadata": {
  "kernelspec": {
   "display_name": "Python 3 (ipykernel)",
   "language": "python",
   "name": "python3"
  },
  "language_info": {
   "codemirror_mode": {
    "name": "ipython",
    "version": 3
   },
   "file_extension": ".py",
   "mimetype": "text/x-python",
   "name": "python",
   "nbconvert_exporter": "python",
   "pygments_lexer": "ipython3",
   "version": "3.9.13"
  }
 },
 "nbformat": 4,
 "nbformat_minor": 5
}
